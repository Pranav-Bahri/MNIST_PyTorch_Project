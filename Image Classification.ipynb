{
 "cells": [
  {
   "cell_type": "code",
   "execution_count": 2,
   "id": "e5b9633d-aa6a-46a0-b1f7-6cdbbd6d9536",
   "metadata": {},
   "outputs": [],
   "source": [
    "# Imports\n",
    "import torch\n",
    "import torchvision\n",
    "from torchvision.datasets import MNIST"
   ]
  },
  {
   "cell_type": "code",
   "execution_count": 4,
   "id": "f6a41a3d-2682-48a9-88e9-f0fc990fb39c",
   "metadata": {},
   "outputs": [],
   "source": [
    "# Download training dataset\n",
    "dataset = MNIST(root='data/', download=True)"
   ]
  },
  {
   "cell_type": "code",
   "execution_count": 5,
   "id": "e58ce13f-c05d-42c6-8b06-e725e5904812",
   "metadata": {},
   "outputs": [
    {
     "data": {
      "text/plain": [
       "60000"
      ]
     },
     "execution_count": 5,
     "metadata": {},
     "output_type": "execute_result"
    }
   ],
   "source": [
    "len(dataset)"
   ]
  },
  {
   "cell_type": "code",
   "execution_count": 6,
   "id": "bdc7c8fe-2284-4e8c-9575-30072497dcb8",
   "metadata": {},
   "outputs": [
    {
     "data": {
      "text/plain": [
       "10000"
      ]
     },
     "execution_count": 6,
     "metadata": {},
     "output_type": "execute_result"
    }
   ],
   "source": [
    "test_dataset = MNIST(root='data/', train=False)\n",
    "len(test_dataset)"
   ]
  },
  {
   "cell_type": "code",
   "execution_count": 7,
   "id": "eb7769e4-6399-4764-bbd3-1cea97cd9e35",
   "metadata": {},
   "outputs": [
    {
     "data": {
      "text/plain": [
       "(<PIL.Image.Image image mode=L size=28x28>, 5)"
      ]
     },
     "execution_count": 7,
     "metadata": {},
     "output_type": "execute_result"
    }
   ],
   "source": [
    "dataset[0]"
   ]
  },
  {
   "cell_type": "code",
   "execution_count": 11,
   "id": "a82a6b7a-25a4-46b6-a998-e9ee79a7b096",
   "metadata": {},
   "outputs": [
    {
     "name": "stdout",
     "output_type": "stream",
     "text": [
      "Collecting matplotlib\n",
      "  Obtaining dependency information for matplotlib from https://files.pythonhosted.org/packages/d7/68/0d03098b3feb786cbd494df0aac15b571effda7f7cbdec267e8a8d398c16/matplotlib-3.10.1-cp311-cp311-win_amd64.whl.metadata\n",
      "  Using cached matplotlib-3.10.1-cp311-cp311-win_amd64.whl.metadata (11 kB)\n",
      "Collecting contourpy>=1.0.1 (from matplotlib)\n",
      "  Obtaining dependency information for contourpy>=1.0.1 from https://files.pythonhosted.org/packages/a8/7e/cd93cab453720a5d6cb75588cc17dcdc08fc3484b9de98b885924ff61900/contourpy-1.3.1-cp311-cp311-win_amd64.whl.metadata\n",
      "  Downloading contourpy-1.3.1-cp311-cp311-win_amd64.whl.metadata (5.4 kB)\n",
      "Collecting cycler>=0.10 (from matplotlib)\n",
      "  Obtaining dependency information for cycler>=0.10 from https://files.pythonhosted.org/packages/e7/05/c19819d5e3d95294a6f5947fb9b9629efb316b96de511b418c53d245aae6/cycler-0.12.1-py3-none-any.whl.metadata\n",
      "  Using cached cycler-0.12.1-py3-none-any.whl.metadata (3.8 kB)\n",
      "Collecting fonttools>=4.22.0 (from matplotlib)\n",
      "  Obtaining dependency information for fonttools>=4.22.0 from https://files.pythonhosted.org/packages/3b/90/4926e653041c4116ecd43e50e3c79f5daae6dcafc58ceb64bc4f71dd4924/fonttools-4.56.0-cp311-cp311-win_amd64.whl.metadata\n",
      "  Downloading fonttools-4.56.0-cp311-cp311-win_amd64.whl.metadata (103 kB)\n",
      "     ---------------------------------------- 0.0/104.0 kB ? eta -:--:--\n",
      "     ------- ----------------------------- 20.5/104.0 kB 682.7 kB/s eta 0:00:01\n",
      "     -------------------------------------- 104.0/104.0 kB 1.2 MB/s eta 0:00:00\n",
      "Collecting kiwisolver>=1.3.1 (from matplotlib)\n",
      "  Obtaining dependency information for kiwisolver>=1.3.1 from https://files.pythonhosted.org/packages/2d/27/bdf1c769c83f74d98cbc34483a972f221440703054894a37d174fba8aa68/kiwisolver-1.4.8-cp311-cp311-win_amd64.whl.metadata\n",
      "  Downloading kiwisolver-1.4.8-cp311-cp311-win_amd64.whl.metadata (6.3 kB)\n",
      "Requirement already satisfied: numpy>=1.23 in c:\\users\\pranav\\anaconda3\\ana\\lib\\site-packages (from matplotlib) (2.2.4)\n",
      "Requirement already satisfied: packaging>=20.0 in c:\\users\\pranav\\anaconda3\\ana\\lib\\site-packages (from matplotlib) (24.2)\n",
      "Requirement already satisfied: pillow>=8 in c:\\users\\pranav\\anaconda3\\ana\\lib\\site-packages (from matplotlib) (11.1.0)\n",
      "Collecting pyparsing>=2.3.1 (from matplotlib)\n",
      "  Obtaining dependency information for pyparsing>=2.3.1 from https://files.pythonhosted.org/packages/1c/a7/c8a2d361bf89c0d9577c934ebb7421b25dc84bf3a8e3ac0a40aed9acc547/pyparsing-3.2.1-py3-none-any.whl.metadata\n",
      "  Using cached pyparsing-3.2.1-py3-none-any.whl.metadata (5.0 kB)\n",
      "Requirement already satisfied: python-dateutil>=2.7 in c:\\users\\pranav\\anaconda3\\ana\\lib\\site-packages (from matplotlib) (2.9.0.post0)\n",
      "Requirement already satisfied: six>=1.5 in c:\\users\\pranav\\anaconda3\\ana\\lib\\site-packages (from python-dateutil>=2.7->matplotlib) (1.16.0)\n",
      "Downloading matplotlib-3.10.1-cp311-cp311-win_amd64.whl (8.1 MB)\n",
      "   ---------------------------------------- 0.0/8.1 MB ? eta -:--:--\n",
      "   -- ------------------------------------- 0.4/8.1 MB 8.5 MB/s eta 0:00:01\n",
      "   ---- ----------------------------------- 0.9/8.1 MB 9.0 MB/s eta 0:00:01\n",
      "   ------ --------------------------------- 1.4/8.1 MB 8.9 MB/s eta 0:00:01\n",
      "   --------- ------------------------------ 1.8/8.1 MB 9.7 MB/s eta 0:00:01\n",
      "   ----------- ---------------------------- 2.3/8.1 MB 9.3 MB/s eta 0:00:01\n",
      "   ------------- -------------------------- 2.8/8.1 MB 10.0 MB/s eta 0:00:01\n",
      "   ---------------- ----------------------- 3.3/8.1 MB 9.6 MB/s eta 0:00:01\n",
      "   ------------------ --------------------- 3.8/8.1 MB 9.6 MB/s eta 0:00:01\n",
      "   --------------------- ------------------ 4.3/8.1 MB 9.7 MB/s eta 0:00:01\n",
      "   ----------------------- ---------------- 4.7/8.1 MB 9.8 MB/s eta 0:00:01\n",
      "   -------------------------- ------------- 5.2/8.1 MB 9.9 MB/s eta 0:00:01\n",
      "   ---------------------------- ----------- 5.7/8.1 MB 9.8 MB/s eta 0:00:01\n",
      "   ------------------------------ --------- 6.2/8.1 MB 9.9 MB/s eta 0:00:01\n",
      "   --------------------------------- ------ 6.8/8.1 MB 9.8 MB/s eta 0:00:01\n",
      "   ----------------------------------- ---- 7.2/8.1 MB 10.1 MB/s eta 0:00:01\n",
      "   ------------------------------------- -- 7.5/8.1 MB 10.0 MB/s eta 0:00:01\n",
      "   ---------------------------------------  8.0/8.1 MB 9.8 MB/s eta 0:00:01\n",
      "   ---------------------------------------- 8.1/8.1 MB 9.2 MB/s eta 0:00:00\n",
      "Downloading contourpy-1.3.1-cp311-cp311-win_amd64.whl (219 kB)\n",
      "   ---------------------------------------- 0.0/219.8 kB ? eta -:--:--\n",
      "   --------------------------------------- 219.8/219.8 kB 14.0 MB/s eta 0:00:00\n",
      "Using cached cycler-0.12.1-py3-none-any.whl (8.3 kB)\n",
      "Downloading fonttools-4.56.0-cp311-cp311-win_amd64.whl (2.2 MB)\n",
      "   ---------------------------------------- 0.0/2.2 MB ? eta -:--:--\n",
      "   ------- -------------------------------- 0.4/2.2 MB 8.5 MB/s eta 0:00:01\n",
      "   --------------- ------------------------ 0.8/2.2 MB 8.8 MB/s eta 0:00:01\n",
      "   ----------------------- ---------------- 1.3/2.2 MB 10.1 MB/s eta 0:00:01\n",
      "   ------------------------------- -------- 1.7/2.2 MB 9.2 MB/s eta 0:00:01\n",
      "   ---------------------------------------  2.2/2.2 MB 9.3 MB/s eta 0:00:01\n",
      "   ---------------------------------------- 2.2/2.2 MB 8.8 MB/s eta 0:00:00\n",
      "Downloading kiwisolver-1.4.8-cp311-cp311-win_amd64.whl (71 kB)\n",
      "   ---------------------------------------- 0.0/72.0 kB ? eta -:--:--\n",
      "   ---------------------------------------- 72.0/72.0 kB 3.9 MB/s eta 0:00:00\n",
      "Using cached pyparsing-3.2.1-py3-none-any.whl (107 kB)\n",
      "Installing collected packages: pyparsing, kiwisolver, fonttools, cycler, contourpy, matplotlib\n",
      "Successfully installed contourpy-1.3.1 cycler-0.12.1 fonttools-4.56.0 kiwisolver-1.4.8 matplotlib-3.10.1 pyparsing-3.2.1\n"
     ]
    }
   ],
   "source": [
    "!pip install matplotlib\n"
   ]
  },
  {
   "cell_type": "code",
   "execution_count": 8,
   "id": "4b27a80c-c988-4c63-a456-bd5a8c898cbd",
   "metadata": {},
   "outputs": [],
   "source": [
    "import matplotlib.pyplot as plt\n",
    "%matplotlib inline"
   ]
  },
  {
   "cell_type": "code",
   "execution_count": 9,
   "id": "2eb89567-7faf-4016-b7bc-6b9feaddc74c",
   "metadata": {},
   "outputs": [
    {
     "data": {
      "image/png": "[encoded data removed]",
      "text/plain": [
       "<Figure size 640x480 with 1 Axes>"
      ]
     },
     "metadata": {},
     "output_type": "display_data"
    },
    {
     "name": "stdout",
     "output_type": "stream",
     "text": [
      "Label: 5\n"
     ]
    }
   ],
   "source": [
    "image, label = dataset[0]\n",
    "plt.imshow(image, cmap='gray')\n",
    "plt.show()\n",
    "print('Label:', label)"
   ]
  },
  {
   "cell_type": "code",
   "execution_count": 10,
   "id": "2ce481a7-bbe4-422b-b27a-fd731493346a",
   "metadata": {},
   "outputs": [
    {
     "data": {
      "image/png": "[encoded data removed]",
      "text/plain": [
       "<Figure size 640x480 with 1 Axes>"
      ]
     },
     "metadata": {},
     "output_type": "display_data"
    },
    {
     "name": "stdout",
     "output_type": "stream",
     "text": [
      "Label: 3\n"
     ]
    }
   ],
   "source": [
    "image, label = dataset[10]\n",
    "plt.imshow(image, cmap='gray')\n",
    "plt.show()\n",
    "print('Label:', label)"
   ]
  },
  {
   "cell_type": "code",
   "execution_count": 11,
   "id": "2a71ec68-e4fc-4b82-a755-ae97512e6436",
   "metadata": {},
   "outputs": [],
   "source": [
    "import torchvision.transforms as transforms"
   ]
  },
  {
   "cell_type": "code",
   "execution_count": 13,
   "id": "62ef6c06-a5b4-4c19-a76a-9567ef3641ad",
   "metadata": {},
   "outputs": [],
   "source": [
    "\n",
    "dataset = MNIST(root='data/', \n",
    "                train=True,\n",
    "                transform=transforms.ToTensor())"
   ]
  },
  {
   "cell_type": "code",
   "execution_count": 14,
   "id": "f8619058-bafa-4518-82c9-e423fed34f97",
   "metadata": {},
   "outputs": [
    {
     "name": "stdout",
     "output_type": "stream",
     "text": [
      "torch.Size([1, 28, 28]) 5\n"
     ]
    }
   ],
   "source": [
    "img_tensor, label = dataset[0]\n",
    "print(img_tensor.shape, label)"
   ]
  },
  {
   "cell_type": "code",
   "execution_count": 15,
   "id": "ee20e9d5-809a-491e-8c68-47da5567d88f",
   "metadata": {},
   "outputs": [
    {
     "name": "stdout",
     "output_type": "stream",
     "text": [
      "tensor([[[0.0039, 0.6039, 0.9922, 0.3529, 0.0000],\n",
      "         [0.0000, 0.5451, 0.9922, 0.7451, 0.0078],\n",
      "         [0.0000, 0.0431, 0.7451, 0.9922, 0.2745],\n",
      "         [0.0000, 0.0000, 0.1373, 0.9451, 0.8824],\n",
      "         [0.0000, 0.0000, 0.0000, 0.3176, 0.9412]]])\n",
      "tensor(1.) tensor(0.)\n"
     ]
    }
   ],
   "source": [
    "print(img_tensor[:,10:15,10:15])\n",
    "print(torch.max(img_tensor), torch.min(img_tensor))"
   ]
  },
  {
   "cell_type": "code",
   "execution_count": 16,
   "id": "9f4a1085-562c-4af9-bce9-b76d746bade5",
   "metadata": {},
   "outputs": [
    {
     "data": {
      "image/png": "[encoded data removed]",
      "text/plain": [
       "<Figure size 640x480 with 1 Axes>"
      ]
     },
     "metadata": {},
     "output_type": "display_data"
    }
   ],
   "source": [
    "\n",
    "plt.imshow(img_tensor[0,10:15,10:15], cmap='gray');\n",
    "plt.show()"
   ]
  },
  {
   "cell_type": "code",
   "execution_count": 17,
   "id": "06dbb094-d830-4d2a-ae64-0cea4abbcdbd",
   "metadata": {},
   "outputs": [
    {
     "data": {
      "text/plain": [
       "(50000, 10000)"
      ]
     },
     "execution_count": 17,
     "metadata": {},
     "output_type": "execute_result"
    }
   ],
   "source": [
    "from torch.utils.data import random_split\n",
    "\n",
    "train_ds, val_ds = random_split(dataset, [50000, 10000])\n",
    "len(train_ds), len(val_ds)"
   ]
  },
  {
   "cell_type": "code",
   "execution_count": 18,
   "id": "1e0743c6-7304-4c31-8a98-9da6e0234e06",
   "metadata": {},
   "outputs": [],
   "source": [
    "from torch.utils.data import DataLoader\n",
    "\n",
    "batch_size = 128\n",
    "\n",
    "train_loader = DataLoader(train_ds, batch_size, shuffle=True)\n",
    "val_loader = DataLoader(val_ds, batch_size)"
   ]
  },
  {
   "cell_type": "code",
   "execution_count": 19,
   "id": "3137de82-1825-42e2-b549-5a67eef72f36",
   "metadata": {},
   "outputs": [],
   "source": [
    "import torch.nn as nn\n",
    "\n",
    "input_size = 28*28\n",
    "num_classes = 10\n",
    "\n",
    "# Logistic regression model\n",
    "model = nn.Linear(input_size, num_classes)"
   ]
  },
  {
   "cell_type": "code",
   "execution_count": 20,
   "id": "cbe09a9e-c015-4d5b-832b-092a8c1b7c89",
   "metadata": {},
   "outputs": [
    {
     "name": "stdout",
     "output_type": "stream",
     "text": [
      "torch.Size([10, 784])\n"
     ]
    },
    {
     "data": {
      "text/plain": [
       "Parameter containing:\n",
       "tensor([[-0.0042, -0.0313,  0.0052,  ...,  0.0059,  0.0296, -0.0250],\n",
       "        [-0.0230,  0.0164,  0.0166,  ..., -0.0137,  0.0173,  0.0199],\n",
       "        [ 0.0267,  0.0312, -0.0245,  ..., -0.0015,  0.0347,  0.0353],\n",
       "        ...,\n",
       "        [-0.0063,  0.0184, -0.0295,  ..., -0.0263, -0.0021, -0.0034],\n",
       "        [ 0.0325, -0.0262,  0.0295,  ..., -0.0064,  0.0347,  0.0250],\n",
       "        [-0.0357, -0.0278,  0.0285,  ..., -0.0293, -0.0190, -0.0250]],\n",
       "       requires_grad=True)"
      ]
     },
     "execution_count": 20,
     "metadata": {},
     "output_type": "execute_result"
    }
   ],
   "source": [
    "print(model.weight.shape)\n",
    "model.weight"
   ]
  },
  {
   "cell_type": "code",
   "execution_count": 21,
   "id": "76ca1cea-31f5-4fc1-a34d-c54748b99b03",
   "metadata": {},
   "outputs": [
    {
     "name": "stdout",
     "output_type": "stream",
     "text": [
      "torch.Size([10])\n"
     ]
    },
    {
     "data": {
      "text/plain": [
       "Parameter containing:\n",
       "tensor([-0.0094, -0.0166,  0.0313,  0.0020,  0.0161, -0.0256,  0.0144, -0.0160,\n",
       "        -0.0080, -0.0043], requires_grad=True)"
      ]
     },
     "execution_count": 21,
     "metadata": {},
     "output_type": "execute_result"
    }
   ],
   "source": [
    "print(model.bias.shape)\n",
    "model.bias"
   ]
  },
  {
   "cell_type": "code",
   "execution_count": 22,
   "id": "3032527d-1b3f-4517-abc8-a6be120f7332",
   "metadata": {},
   "outputs": [
    {
     "name": "stdout",
     "output_type": "stream",
     "text": [
      "tensor([3, 5, 4, 0, 8, 5, 1, 1, 3, 6, 0, 1, 9, 6, 1, 9, 0, 8, 0, 1, 1, 9, 4, 8,\n",
      "        3, 5, 8, 5, 1, 5, 5, 7, 0, 6, 3, 6, 6, 2, 0, 4, 8, 4, 3, 9, 7, 9, 3, 2,\n",
      "        2, 4, 2, 9, 0, 5, 1, 6, 1, 8, 4, 0, 2, 2, 7, 0, 2, 4, 5, 6, 4, 6, 8, 8,\n",
      "        2, 4, 1, 9, 1, 8, 1, 4, 1, 0, 3, 4, 9, 7, 3, 3, 4, 6, 5, 6, 2, 0, 2, 2,\n",
      "        3, 7, 5, 0, 9, 7, 1, 7, 4, 0, 4, 0, 7, 8, 4, 7, 0, 6, 3, 4, 2, 1, 3, 9,\n",
      "        9, 8, 6, 7, 9, 7, 1, 4])\n",
      "torch.Size([128, 1, 28, 28])\n"
     ]
    },
    {
     "ename": "RuntimeError",
     "evalue": "mat1 and mat2 shapes cannot be multiplied (3584x28 and 784x10)",
     "output_type": "error",
     "traceback": [
      "\u001b[1;31m---------------------------------------------------------------------------\u001b[0m",
      "\u001b[1;31mRuntimeError\u001b[0m                              Traceback (most recent call last)",
      "Cell \u001b[1;32mIn[22], line 4\u001b[0m\n\u001b[0;32m      2\u001b[0m \u001b[38;5;28mprint\u001b[39m(labels)\n\u001b[0;32m      3\u001b[0m \u001b[38;5;28mprint\u001b[39m(images\u001b[38;5;241m.\u001b[39mshape)\n\u001b[1;32m----> 4\u001b[0m outputs \u001b[38;5;241m=\u001b[39m model(images)\n\u001b[0;32m      5\u001b[0m \u001b[38;5;28;01mbreak\u001b[39;00m\n",
      "File \u001b[1;32m~\\anaconda3\\ana\\Lib\\site-packages\\torch\\nn\\modules\\module.py:1739\u001b[0m, in \u001b[0;36mModule._wrapped_call_impl\u001b[1;34m(self, *args, **kwargs)\u001b[0m\n\u001b[0;32m   1737\u001b[0m     \u001b[38;5;28;01mreturn\u001b[39;00m \u001b[38;5;28mself\u001b[39m\u001b[38;5;241m.\u001b[39m_compiled_call_impl(\u001b[38;5;241m*\u001b[39margs, \u001b[38;5;241m*\u001b[39m\u001b[38;5;241m*\u001b[39mkwargs)  \u001b[38;5;66;03m# type: ignore[misc]\u001b[39;00m\n\u001b[0;32m   1738\u001b[0m \u001b[38;5;28;01melse\u001b[39;00m:\n\u001b[1;32m-> 1739\u001b[0m     \u001b[38;5;28;01mreturn\u001b[39;00m \u001b[38;5;28mself\u001b[39m\u001b[38;5;241m.\u001b[39m_call_impl(\u001b[38;5;241m*\u001b[39margs, \u001b[38;5;241m*\u001b[39m\u001b[38;5;241m*\u001b[39mkwargs)\n",
      "File \u001b[1;32m~\\anaconda3\\ana\\Lib\\site-packages\\torch\\nn\\modules\\module.py:1750\u001b[0m, in \u001b[0;36mModule._call_impl\u001b[1;34m(self, *args, **kwargs)\u001b[0m\n\u001b[0;32m   1745\u001b[0m \u001b[38;5;66;03m# If we don't have any hooks, we want to skip the rest of the logic in\u001b[39;00m\n\u001b[0;32m   1746\u001b[0m \u001b[38;5;66;03m# this function, and just call forward.\u001b[39;00m\n\u001b[0;32m   1747\u001b[0m \u001b[38;5;28;01mif\u001b[39;00m \u001b[38;5;129;01mnot\u001b[39;00m (\u001b[38;5;28mself\u001b[39m\u001b[38;5;241m.\u001b[39m_backward_hooks \u001b[38;5;129;01mor\u001b[39;00m \u001b[38;5;28mself\u001b[39m\u001b[38;5;241m.\u001b[39m_backward_pre_hooks \u001b[38;5;129;01mor\u001b[39;00m \u001b[38;5;28mself\u001b[39m\u001b[38;5;241m.\u001b[39m_forward_hooks \u001b[38;5;129;01mor\u001b[39;00m \u001b[38;5;28mself\u001b[39m\u001b[38;5;241m.\u001b[39m_forward_pre_hooks\n\u001b[0;32m   1748\u001b[0m         \u001b[38;5;129;01mor\u001b[39;00m _global_backward_pre_hooks \u001b[38;5;129;01mor\u001b[39;00m _global_backward_hooks\n\u001b[0;32m   1749\u001b[0m         \u001b[38;5;129;01mor\u001b[39;00m _global_forward_hooks \u001b[38;5;129;01mor\u001b[39;00m _global_forward_pre_hooks):\n\u001b[1;32m-> 1750\u001b[0m     \u001b[38;5;28;01mreturn\u001b[39;00m forward_call(\u001b[38;5;241m*\u001b[39margs, \u001b[38;5;241m*\u001b[39m\u001b[38;5;241m*\u001b[39mkwargs)\n\u001b[0;32m   1752\u001b[0m result \u001b[38;5;241m=\u001b[39m \u001b[38;5;28;01mNone\u001b[39;00m\n\u001b[0;32m   1753\u001b[0m called_always_called_hooks \u001b[38;5;241m=\u001b[39m \u001b[38;5;28mset\u001b[39m()\n",
      "File \u001b[1;32m~\\anaconda3\\ana\\Lib\\site-packages\\torch\\nn\\modules\\linear.py:125\u001b[0m, in \u001b[0;36mLinear.forward\u001b[1;34m(self, input)\u001b[0m\n\u001b[0;32m    124\u001b[0m \u001b[38;5;28;01mdef\u001b[39;00m \u001b[38;5;21mforward\u001b[39m(\u001b[38;5;28mself\u001b[39m, \u001b[38;5;28minput\u001b[39m: Tensor) \u001b[38;5;241m-\u001b[39m\u001b[38;5;241m>\u001b[39m Tensor:\n\u001b[1;32m--> 125\u001b[0m     \u001b[38;5;28;01mreturn\u001b[39;00m F\u001b[38;5;241m.\u001b[39mlinear(\u001b[38;5;28minput\u001b[39m, \u001b[38;5;28mself\u001b[39m\u001b[38;5;241m.\u001b[39mweight, \u001b[38;5;28mself\u001b[39m\u001b[38;5;241m.\u001b[39mbias)\n",
      "\u001b[1;31mRuntimeError\u001b[0m: mat1 and mat2 shapes cannot be multiplied (3584x28 and 784x10)"
     ]
    }
   ],
   "source": [
    "for images, labels in train_loader:\n",
    "    print(labels)\n",
    "    print(images.shape)\n",
    "    outputs = model(images)\n",
    "    break"
   ]
  },
  {
   "cell_type": "code",
   "execution_count": 23,
   "id": "853b0399-3af1-4059-ac0d-a5c9611b6bba",
   "metadata": {},
   "outputs": [],
   "source": [
    "class MnistModel(nn.Module):\n",
    "    def __init__(self):\n",
    "        super().__init__()\n",
    "        self.linear = nn.Linear(input_size, num_classes)\n",
    "        \n",
    "    def forward(self, xb):\n",
    "        xb = xb.reshape(-1, 784)\n",
    "        out = self.linear(xb)\n",
    "        return out\n",
    "    \n",
    "model = MnistModel()"
   ]
  },
  {
   "cell_type": "code",
   "execution_count": 24,
   "id": "2934ad45-7820-40cb-a595-8e4af1a93425",
   "metadata": {},
   "outputs": [
    {
     "name": "stdout",
     "output_type": "stream",
     "text": [
      "torch.Size([10, 784]) torch.Size([10])\n"
     ]
    },
    {
     "data": {
      "text/plain": [
       "[Parameter containing:\n",
       " tensor([[-0.0301, -0.0208, -0.0103,  ...,  0.0094, -0.0043, -0.0114],\n",
       "         [-0.0164, -0.0285,  0.0289,  ...,  0.0054, -0.0126,  0.0292],\n",
       "         [ 0.0247, -0.0249, -0.0203,  ..., -0.0141,  0.0294,  0.0066],\n",
       "         ...,\n",
       "         [ 0.0056, -0.0291,  0.0118,  ...,  0.0334, -0.0244, -0.0184],\n",
       "         [ 0.0221, -0.0251,  0.0017,  ..., -0.0100,  0.0018, -0.0023],\n",
       "         [-0.0142, -0.0309, -0.0195,  ..., -0.0216, -0.0160, -0.0164]],\n",
       "        requires_grad=True),\n",
       " Parameter containing:\n",
       " tensor([ 0.0036,  0.0230,  0.0223, -0.0136,  0.0348,  0.0035,  0.0217, -0.0083,\n",
       "          0.0222, -0.0275], requires_grad=True)]"
      ]
     },
     "execution_count": 24,
     "metadata": {},
     "output_type": "execute_result"
    }
   ],
   "source": [
    "print(model.linear.weight.shape, model.linear.bias.shape)\n",
    "list(model.parameters())"
   ]
  },
  {
   "cell_type": "code",
   "execution_count": 25,
   "id": "26b8a62f-01ef-4d8a-9634-0f40ed1fd5bf",
   "metadata": {},
   "outputs": [
    {
     "name": "stdout",
     "output_type": "stream",
     "text": [
      "outputs.shape :  torch.Size([128, 10])\n",
      "Sample outputs :\n",
      " tensor([[ 0.1923, -0.0935, -0.2076, -0.0260,  0.0572,  0.1179, -0.0448, -0.1001,\n",
      "          0.1536,  0.0242],\n",
      "        [-0.0304, -0.1640,  0.0635, -0.3794,  0.1091, -0.0562, -0.0869, -0.0202,\n",
      "          0.3237,  0.2002]])\n"
     ]
    }
   ],
   "source": [
    "for images, labels in train_loader:\n",
    "    outputs = model(images)\n",
    "    break\n",
    "\n",
    "print('outputs.shape : ', outputs.shape)\n",
    "print('Sample outputs :\\n', outputs[:2].data)"
   ]
  },
  {
   "cell_type": "code",
   "execution_count": 26,
   "id": "bb174321-b38e-4511-8bc8-00729d670856",
   "metadata": {},
   "outputs": [],
   "source": [
    "import torch.nn.functional as F"
   ]
  },
  {
   "cell_type": "code",
   "execution_count": 27,
   "id": "a6c8798d-c945-4200-ad8f-3377c8e12b02",
   "metadata": {},
   "outputs": [
    {
     "name": "stdout",
     "output_type": "stream",
     "text": [
      "Sample probabilities:\n",
      " tensor([[0.1195, 0.0898, 0.0801, 0.0960, 0.1044, 0.1109, 0.0942, 0.0892, 0.1149,\n",
      "         0.1010],\n",
      "        [0.0958, 0.0838, 0.1052, 0.0675, 0.1101, 0.0933, 0.0905, 0.0967, 0.1365,\n",
      "         0.1206]])\n",
      "Sum:  0.9999999403953552\n"
     ]
    }
   ],
   "source": [
    "probs = F.softmax(outputs, dim=1)\n",
    "\n",
    "print(\"Sample probabilities:\\n\", probs[:2].data)\n",
    "\n",
    "print(\"Sum: \", torch.sum(probs[0]).item())"
   ]
  },
  {
   "cell_type": "code",
   "execution_count": 28,
   "id": "4aba384c-e945-402b-abc2-c945711e21d9",
   "metadata": {},
   "outputs": [
    {
     "name": "stdout",
     "output_type": "stream",
     "text": [
      "tensor([0, 8, 5, 6, 8, 9, 8, 8, 9, 4, 5, 9, 8, 8, 3, 8, 8, 8, 5, 8, 5, 8, 4, 8,\n",
      "        8, 9, 8, 8, 8, 9, 8, 8, 8, 3, 8, 0, 4, 8, 4, 8, 2, 8, 8, 5, 5, 8, 8, 8,\n",
      "        5, 3, 4, 9, 8, 3, 8, 5, 8, 9, 8, 8, 4, 5, 8, 8, 2, 0, 4, 8, 4, 9, 8, 5,\n",
      "        8, 4, 5, 8, 4, 8, 8, 8, 5, 8, 4, 8, 8, 8, 8, 8, 5, 8, 8, 8, 5, 8, 4, 8,\n",
      "        8, 9, 2, 9, 8, 9, 8, 0, 0, 8, 5, 9, 4, 8, 0, 5, 8, 3, 8, 5, 2, 8, 8, 0,\n",
      "        8, 8, 8, 4, 8, 8, 8, 5])\n",
      "tensor([0.1195, 0.1365, 0.1304, 0.1171, 0.1360, 0.1287, 0.1381, 0.1339, 0.1208,\n",
      "        0.1216, 0.1247, 0.1203, 0.1260, 0.1295, 0.1136, 0.1114, 0.1473, 0.1247,\n",
      "        0.1348, 0.1546, 0.1329, 0.1123, 0.1511, 0.1399, 0.1270, 0.1194, 0.1347,\n",
      "        0.1355, 0.1318, 0.1412, 0.1569, 0.1363, 0.1259, 0.1193, 0.1280, 0.1492,\n",
      "        0.1171, 0.1287, 0.1226, 0.1614, 0.1259, 0.1163, 0.1263, 0.1324, 0.1259,\n",
      "        0.1411, 0.1311, 0.1449, 0.1491, 0.1163, 0.1242, 0.1430, 0.1489, 0.1175,\n",
      "        0.1331, 0.1326, 0.1392, 0.1259, 0.1386, 0.1311, 0.1392, 0.1229, 0.1267,\n",
      "        0.1354, 0.1380, 0.1273, 0.1178, 0.1254, 0.1138, 0.1395, 0.1255, 0.1250,\n",
      "        0.1434, 0.1284, 0.1195, 0.1353, 0.1266, 0.1482, 0.1321, 0.1491, 0.1516,\n",
      "        0.1383, 0.1224, 0.1461, 0.1241, 0.1303, 0.1332, 0.1223, 0.1382, 0.1310,\n",
      "        0.1368, 0.1130, 0.1152, 0.1241, 0.1490, 0.1180, 0.1384, 0.1275, 0.1301,\n",
      "        0.1369, 0.1276, 0.1214, 0.1607, 0.1313, 0.1349, 0.1325, 0.1203, 0.1284,\n",
      "        0.1173, 0.1326, 0.1162, 0.1200, 0.1398, 0.1163, 0.1382, 0.1225, 0.1345,\n",
      "        0.1169, 0.1371, 0.1395, 0.1351, 0.1229, 0.1392, 0.1230, 0.1280, 0.1741,\n",
      "        0.1285, 0.1404], grad_fn=<MaxBackward0>)\n"
     ]
    }
   ],
   "source": [
    "max_probs, preds = torch.max(probs, dim=1)\n",
    "print(preds)\n",
    "print(max_probs)"
   ]
  },
  {
   "cell_type": "code",
   "execution_count": 29,
   "id": "601d7800-3e73-4092-b790-444542982500",
   "metadata": {},
   "outputs": [
    {
     "data": {
      "text/plain": [
       "tensor([7, 7, 9, 1, 7, 6, 3, 9, 9, 6, 7, 7, 0, 9, 1, 1, 5, 5, 3, 9, 5, 4, 2, 3,\n",
       "        6, 2, 9, 8, 3, 6, 5, 5, 4, 9, 7, 2, 2, 0, 3, 2, 9, 2, 7, 5, 3, 8, 2, 2,\n",
       "        5, 5, 0, 0, 8, 1, 3, 5, 3, 3, 5, 8, 9, 8, 1, 5, 5, 2, 4, 6, 1, 3, 6, 1,\n",
       "        3, 4, 1, 9, 4, 0, 0, 2, 5, 9, 7, 8, 5, 8, 0, 4, 2, 8, 3, 1, 8, 6, 0, 6,\n",
       "        8, 0, 4, 0, 4, 1, 3, 6, 2, 4, 0, 6, 3, 7, 6, 0, 3, 9, 0, 7, 5, 9, 3, 0,\n",
       "        0, 1, 9, 1, 9, 8, 8, 8])"
      ]
     },
     "execution_count": 29,
     "metadata": {},
     "output_type": "execute_result"
    }
   ],
   "source": [
    "labels"
   ]
  },
  {
   "cell_type": "code",
   "execution_count": 30,
   "id": "caf10287-6c54-4dc9-a6b0-d5729cc1704f",
   "metadata": {},
   "outputs": [],
   "source": [
    "def accuracy(outputs, labels):\n",
    "    _, preds = torch.max(outputs, dim=1)\n",
    "    return torch.tensor(torch.sum(preds == labels).item() / len(preds))"
   ]
  },
  {
   "cell_type": "code",
   "execution_count": 31,
   "id": "acfab655-eede-4186-b2bb-c94e98193787",
   "metadata": {},
   "outputs": [
    {
     "data": {
      "text/plain": [
       "tensor(0.1562)"
      ]
     },
     "execution_count": 31,
     "metadata": {},
     "output_type": "execute_result"
    }
   ],
   "source": [
    "accuracy(outputs, labels)\n"
   ]
  },
  {
   "cell_type": "code",
   "execution_count": 32,
   "id": "87ddc3f5-71a5-4843-ae31-5adc763ca121",
   "metadata": {},
   "outputs": [],
   "source": [
    "loss_fn = F.cross_entropy"
   ]
  },
  {
   "cell_type": "code",
   "execution_count": 33,
   "id": "8e0e4373-af1e-4f64-9577-215bf5bb5082",
   "metadata": {},
   "outputs": [
    {
     "name": "stdout",
     "output_type": "stream",
     "text": [
      "tensor(2.2775, grad_fn=<NllLossBackward0>)\n"
     ]
    }
   ],
   "source": [
    "# Loss for current batch of data\n",
    "loss = loss_fn(outputs, labels)\n",
    "print(loss)"
   ]
  },
  {
   "cell_type": "code",
   "execution_count": 34,
   "id": "214de4d0-91b7-4739-aed6-d3084afcf4b4",
   "metadata": {},
   "outputs": [],
   "source": [
    "def fit(epochs, lr, model, train_loader, val_loader, opt_func=torch.optim.SGD):\n",
    "    optimizer = opt_func(model.parameters(), lr)\n",
    "    history = [] # for recording epoch-wise results\n",
    "    \n",
    "    for epoch in range(epochs):\n",
    "        \n",
    "        # Training Phase \n",
    "        for batch in train_loader:\n",
    "            loss = model.training_step(batch)\n",
    "            loss.backward()\n",
    "            optimizer.step()\n",
    "            optimizer.zero_grad()\n",
    "        \n",
    "        # Validation phase\n",
    "        result = evaluate(model, val_loader)\n",
    "        model.epoch_end(epoch, result)\n",
    "        history.append(result)\n",
    "\n",
    "    return history"
   ]
  },
  {
   "cell_type": "code",
   "execution_count": 35,
   "id": "2f345354-d6a5-4b48-84d4-5ee3ec68db66",
   "metadata": {},
   "outputs": [],
   "source": [
    "def evaluate(model, val_loader):\n",
    "    outputs = [model.validation_step(batch) for batch in val_loader]\n",
    "    return model.validation_epoch_end(outputs)"
   ]
  },
  {
   "cell_type": "code",
   "execution_count": 36,
   "id": "20eb581f-2376-4bd6-814d-4fa8ccd83949",
   "metadata": {},
   "outputs": [],
   "source": [
    "class MnistModel(nn.Module):\n",
    "    def __init__(self):\n",
    "        super().__init__()\n",
    "        self.linear = nn.Linear(input_size, num_classes)\n",
    "        \n",
    "    def forward(self, xb):\n",
    "        xb = xb.reshape(-1, 784)\n",
    "        out = self.linear(xb)\n",
    "        return out\n",
    "    \n",
    "    def training_step(self, batch):\n",
    "        images, labels = batch \n",
    "        out = self(images)                  # Generate predictions\n",
    "        loss = F.cross_entropy(out, labels) # Calculate loss\n",
    "        return loss\n",
    "    \n",
    "    def validation_step(self, batch):\n",
    "        images, labels = batch \n",
    "        out = self(images)                    # Generate predictions\n",
    "        loss = F.cross_entropy(out, labels)   # Calculate loss\n",
    "        acc = accuracy(out, labels)           # Calculate accuracy\n",
    "        return {'val_loss': loss, 'val_acc': acc}\n",
    "        \n",
    "    def validation_epoch_end(self, outputs):\n",
    "        batch_losses = [x['val_loss'] for x in outputs]\n",
    "        epoch_loss = torch.stack(batch_losses).mean()   # Combine losses\n",
    "        batch_accs = [x['val_acc'] for x in outputs]\n",
    "        epoch_acc = torch.stack(batch_accs).mean()      # Combine accuracies\n",
    "        return {'val_loss': epoch_loss.item(), 'val_acc': epoch_acc.item()}\n",
    "    \n",
    "    def epoch_end(self, epoch, result):\n",
    "        print(\"Epoch [{}], val_loss: {:.4f}, val_acc: {:.4f}\".format(epoch, result['val_loss'], result['val_acc']))\n",
    "    \n",
    "model = MnistModel()"
   ]
  },
  {
   "cell_type": "code",
   "execution_count": 37,
   "id": "7c9f36ad-d4d3-4529-ba71-7b9fe42f3c23",
   "metadata": {},
   "outputs": [
    {
     "data": {
      "text/plain": [
       "{'val_loss': 2.3314290046691895, 'val_acc': 0.09088212251663208}"
      ]
     },
     "execution_count": 37,
     "metadata": {},
     "output_type": "execute_result"
    }
   ],
   "source": [
    "result0 = evaluate(model, val_loader)\n",
    "result0"
   ]
  },
  {
   "cell_type": "code",
   "execution_count": 38,
   "id": "c8cff2d8-3af7-404b-aa34-43ef4e486027",
   "metadata": {},
   "outputs": [
    {
     "name": "stdout",
     "output_type": "stream",
     "text": [
      "Epoch [0], val_loss: 1.9667, val_acc: 0.5894\n",
      "Epoch [1], val_loss: 1.6943, val_acc: 0.7175\n",
      "Epoch [2], val_loss: 1.4905, val_acc: 0.7558\n",
      "Epoch [3], val_loss: 1.3369, val_acc: 0.7746\n",
      "Epoch [4], val_loss: 1.2188, val_acc: 0.7880\n"
     ]
    }
   ],
   "source": [
    "history1 = fit(5, 0.001, model, train_loader, val_loader)"
   ]
  },
  {
   "cell_type": "code",
   "execution_count": 48,
   "id": "a4c8e32a-cf90-45bc-8e43-a4404f1739be",
   "metadata": {},
   "outputs": [
    {
     "name": "stdout",
     "output_type": "stream",
     "text": [
      "Epoch [0], val_loss: 1.1254, val_acc: 0.7995\n",
      "Epoch [1], val_loss: 1.0530, val_acc: 0.8086\n",
      "Epoch [2], val_loss: 0.9937, val_acc: 0.8146\n",
      "Epoch [3], val_loss: 0.9443, val_acc: 0.8190\n",
      "Epoch [4], val_loss: 0.9024, val_acc: 0.8230\n"
     ]
    }
   ],
   "source": [
    "history2 = fit(5, 0.001, model, train_loader, val_loader)"
   ]
  },
  {
   "cell_type": "code",
   "execution_count": 49,
   "id": "641a2500-7c68-4526-92fe-3ae20d6d6de7",
   "metadata": {},
   "outputs": [
    {
     "name": "stdout",
     "output_type": "stream",
     "text": [
      "Epoch [0], val_loss: 0.8665, val_acc: 0.8269\n",
      "Epoch [1], val_loss: 0.8354, val_acc: 0.8303\n",
      "Epoch [2], val_loss: 0.8081, val_acc: 0.8349\n",
      "Epoch [3], val_loss: 0.7839, val_acc: 0.8382\n",
      "Epoch [4], val_loss: 0.7625, val_acc: 0.8408\n"
     ]
    }
   ],
   "source": [
    "history3 = fit(5, 0.001, model, train_loader, val_loader)"
   ]
  },
  {
   "cell_type": "code",
   "execution_count": 50,
   "id": "dd0d6297-9a9c-43de-874e-cc8e3a09ec66",
   "metadata": {},
   "outputs": [
    {
     "name": "stdout",
     "output_type": "stream",
     "text": [
      "Epoch [0], val_loss: 0.7432, val_acc: 0.8428\n",
      "Epoch [1], val_loss: 0.7257, val_acc: 0.8459\n",
      "Epoch [2], val_loss: 0.7099, val_acc: 0.8475\n",
      "Epoch [3], val_loss: 0.6954, val_acc: 0.8490\n",
      "Epoch [4], val_loss: 0.6822, val_acc: 0.8505\n"
     ]
    }
   ],
   "source": [
    "history4 = fit(5, 0.001, model, train_loader, val_loader)"
   ]
  },
  {
   "cell_type": "code",
   "execution_count": 52,
   "id": "caedb029-abde-4355-bd09-bf30384b0077",
   "metadata": {},
   "outputs": [
    {
     "data": {
      "image/png": "[encoded data removed]",
      "text/plain": [
       "<Figure size 640x480 with 1 Axes>"
      ]
     },
     "metadata": {},
     "output_type": "display_data"
    }
   ],
   "source": [
    "history = [result0] + history1 + history2 + history3 + history4\n",
    "accuracies = [result['val_acc'] for result in history]\n",
    "plt.plot(accuracies, '-x')\n",
    "plt.xlabel('epoch')\n",
    "plt.ylabel('accuracy')\n",
    "plt.title('Accuracy vs. No. of epochs');\n",
    "plt.show();"
   ]
  },
  {
   "cell_type": "code",
   "execution_count": 53,
   "id": "32a139a1-6cb5-47c5-ab0e-a7ec1a81c031",
   "metadata": {},
   "outputs": [],
   "source": [
    "# Define test dataset\n",
    "test_dataset = MNIST(root='data/', \n",
    "                     train=False,\n",
    "                     transform=transforms.ToTensor())"
   ]
  },
  {
   "cell_type": "code",
   "execution_count": 55,
   "id": "54f174c8-e3af-4563-b007-4817527df5dc",
   "metadata": {},
   "outputs": [
    {
     "name": "stdout",
     "output_type": "stream",
     "text": [
      "Shape: torch.Size([1, 28, 28])\n",
      "Label: 7\n"
     ]
    },
    {
     "data": {
      "image/png": "[encoded data removed]",
      "text/plain": [
       "<Figure size 640x480 with 1 Axes>"
      ]
     },
     "metadata": {},
     "output_type": "display_data"
    }
   ],
   "source": [
    "img, label = test_dataset[0]\n",
    "plt.imshow(img[0], cmap='gray')\n",
    "print('Shape:', img.shape)\n",
    "print('Label:', label)\n",
    "plt.show()"
   ]
  },
  {
   "cell_type": "code",
   "execution_count": 58,
   "id": "38e00802-1a30-4a46-b157-a4af8125426a",
   "metadata": {},
   "outputs": [],
   "source": [
    "def predict_image(img, model):\n",
    "    xb = img.unsqueeze(0)\n",
    "    yb = model(xb)\n",
    "    _, preds  = torch.max(yb, dim=1)\n",
    "    plt.show()\n",
    "    return preds[0].item()"
   ]
  },
  {
   "cell_type": "code",
   "execution_count": 59,
   "id": "4a9bce2a-0ae5-4e5f-85b0-40f818cb007f",
   "metadata": {},
   "outputs": [
    {
     "data": {
      "image/png": "[encoded data removed]",
      "text/plain": [
       "<Figure size 640x480 with 1 Axes>"
      ]
     },
     "metadata": {},
     "output_type": "display_data"
    },
    {
     "name": "stdout",
     "output_type": "stream",
     "text": [
      "Label: 7 , Predicted: 7\n"
     ]
    }
   ],
   "source": [
    "img, label = test_dataset[0]\n",
    "plt.imshow(img[0], cmap='gray')\n",
    "print('Label:', label, ', Predicted:', predict_image(img, model))"
   ]
  },
  {
   "cell_type": "code",
   "execution_count": 60,
   "id": "e32cf8cc-7623-4400-a428-073f75944b0f",
   "metadata": {},
   "outputs": [
    {
     "data": {
      "image/png": "[encoded data removed]",
      "text/plain": [
       "<Figure size 640x480 with 1 Axes>"
      ]
     },
     "metadata": {},
     "output_type": "display_data"
    },
    {
     "name": "stdout",
     "output_type": "stream",
     "text": [
      "Label: 0 , Predicted: 0\n"
     ]
    }
   ],
   "source": [
    "img, label = test_dataset[10]\n",
    "plt.imshow(img[0], cmap='gray')\n",
    "print('Label:', label, ', Predicted:', predict_image(img, model))"
   ]
  },
  {
   "cell_type": "code",
   "execution_count": 61,
   "id": "19fafda2-aab5-49e9-9f50-b77cddc9ed7e",
   "metadata": {},
   "outputs": [
    {
     "data": {
      "image/png": "[encoded data removed]",
      "text/plain": [
       "<Figure size 640x480 with 1 Axes>"
      ]
     },
     "metadata": {},
     "output_type": "display_data"
    },
    {
     "name": "stdout",
     "output_type": "stream",
     "text": [
      "Label: 9 , Predicted: 4\n"
     ]
    }
   ],
   "source": [
    "img, label = test_dataset[193]\n",
    "plt.imshow(img[0], cmap='gray')\n",
    "print('Label:', label, ', Predicted:', predict_image(img, model))"
   ]
  },
  {
   "cell_type": "code",
   "execution_count": 39,
   "id": "32fbb829-d60e-4fd4-ad25-a8827d4a2bcd",
   "metadata": {},
   "outputs": [
    {
     "ename": "TypeError",
     "evalue": "'Image' object is not subscriptable",
     "output_type": "error",
     "traceback": [
      "\u001b[1;31m---------------------------------------------------------------------------\u001b[0m",
      "\u001b[1;31mTypeError\u001b[0m                                 Traceback (most recent call last)",
      "Cell \u001b[1;32mIn[39], line 2\u001b[0m\n\u001b[0;32m      1\u001b[0m img, label \u001b[38;5;241m=\u001b[39m test_dataset[\u001b[38;5;241m189\u001b[39m]\n\u001b[1;32m----> 2\u001b[0m plt\u001b[38;5;241m.\u001b[39mimshow(img[\u001b[38;5;241m0\u001b[39m], cmap\u001b[38;5;241m=\u001b[39m\u001b[38;5;124m'\u001b[39m\u001b[38;5;124mgray\u001b[39m\u001b[38;5;124m'\u001b[39m)\n\u001b[0;32m      3\u001b[0m \u001b[38;5;28mprint\u001b[39m(\u001b[38;5;124m'\u001b[39m\u001b[38;5;124mLabel:\u001b[39m\u001b[38;5;124m'\u001b[39m, label, \u001b[38;5;124m'\u001b[39m\u001b[38;5;124m, Predicted:\u001b[39m\u001b[38;5;124m'\u001b[39m, predict_image(img, model))\n",
      "\u001b[1;31mTypeError\u001b[0m: 'Image' object is not subscriptable"
     ]
    }
   ],
   "source": [
    "img, label = test_dataset[189]\n",
    "plt.imshow(img[0], cmap='gray')\n",
    "print('Label:', label, ', Predicted:', predict_image(img, model))"
   ]
  },
  {
   "cell_type": "code",
   "execution_count": 64,
   "id": "bca5ff00-7199-44be-a1bb-74f1c58c3018",
   "metadata": {},
   "outputs": [
    {
     "data": {
      "text/plain": [
       "{'val_loss': 0.6424844861030579, 'val_acc': 0.8583008050918579}"
      ]
     },
     "execution_count": 64,
     "metadata": {},
     "output_type": "execute_result"
    }
   ],
   "source": [
    "test_loader = DataLoader(test_dataset, batch_size=256)\n",
    "result = evaluate(model, test_loader)\n",
    "result"
   ]
  },
  {
   "cell_type": "code",
   "execution_count": 65,
   "id": "475d40c0-405b-4e6d-b17f-be5cc55a0cd0",
   "metadata": {},
   "outputs": [],
   "source": [
    "torch.save(model.state_dict(), 'mnist-logistic.pth')"
   ]
  },
  {
   "cell_type": "code",
   "execution_count": 66,
   "id": "d7150b84-acca-4b45-a20f-f1cfbeddb16b",
   "metadata": {},
   "outputs": [
    {
     "data": {
      "text/plain": [
       "OrderedDict([('linear.weight',\n",
       "              tensor([[-0.0102, -0.0320,  0.0177,  ..., -0.0015,  0.0215,  0.0086],\n",
       "                      [-0.0328,  0.0095,  0.0039,  ...,  0.0054,  0.0280,  0.0071],\n",
       "                      [ 0.0131,  0.0324,  0.0245,  ...,  0.0077,  0.0313, -0.0022],\n",
       "                      ...,\n",
       "                      [ 0.0329, -0.0213,  0.0245,  ..., -0.0171, -0.0270, -0.0048],\n",
       "                      [-0.0183, -0.0278,  0.0018,  ...,  0.0227,  0.0133,  0.0273],\n",
       "                      [-0.0333, -0.0145,  0.0011,  ..., -0.0115, -0.0235,  0.0025]])),\n",
       "             ('linear.bias',\n",
       "              tensor([-0.0587,  0.0648, -0.0096, -0.0188,  0.0154,  0.0566,  0.0078,  0.0451,\n",
       "                      -0.0889, -0.0310]))])"
      ]
     },
     "execution_count": 66,
     "metadata": {},
     "output_type": "execute_result"
    }
   ],
   "source": [
    "model.state_dict()"
   ]
  },
  {
   "cell_type": "code",
   "execution_count": 67,
   "id": "604d2a0d-b15d-4304-bcbf-cc4fbb39d475",
   "metadata": {},
   "outputs": [
    {
     "data": {
      "text/plain": [
       "OrderedDict([('linear.weight',\n",
       "              tensor([[-0.0102, -0.0320,  0.0177,  ..., -0.0015,  0.0215,  0.0086],\n",
       "                      [-0.0328,  0.0095,  0.0039,  ...,  0.0054,  0.0280,  0.0071],\n",
       "                      [ 0.0131,  0.0324,  0.0245,  ...,  0.0077,  0.0313, -0.0022],\n",
       "                      ...,\n",
       "                      [ 0.0329, -0.0213,  0.0245,  ..., -0.0171, -0.0270, -0.0048],\n",
       "                      [-0.0183, -0.0278,  0.0018,  ...,  0.0227,  0.0133,  0.0273],\n",
       "                      [-0.0333, -0.0145,  0.0011,  ..., -0.0115, -0.0235,  0.0025]])),\n",
       "             ('linear.bias',\n",
       "              tensor([-0.0587,  0.0648, -0.0096, -0.0188,  0.0154,  0.0566,  0.0078,  0.0451,\n",
       "                      -0.0889, -0.0310]))])"
      ]
     },
     "execution_count": 67,
     "metadata": {},
     "output_type": "execute_result"
    }
   ],
   "source": [
    "model2 = MnistModel()\n",
    "model2.load_state_dict(torch.load('mnist-logistic.pth'))\n",
    "model2.state_dict()"
   ]
  },
  {
   "cell_type": "code",
   "execution_count": 68,
   "id": "3534f4df-fc84-48f9-8ea6-86391aa743c0",
   "metadata": {},
   "outputs": [
    {
     "data": {
      "text/plain": [
       "{'val_loss': 0.6424844861030579, 'val_acc': 0.8583008050918579}"
      ]
     },
     "execution_count": 68,
     "metadata": {},
     "output_type": "execute_result"
    }
   ],
   "source": [
    "test_loader = DataLoader(test_dataset, batch_size=256)\n",
    "result = evaluate(model2, test_loader)\n",
    "result"
   ]
  },
  {
   "cell_type": "code",
   "execution_count": null,
   "id": "7938649e-7e99-4cf0-91b9-c6f0c6cec8c1",
   "metadata": {},
   "outputs": [],
   "source": []
  }
 ],
 "metadata": {
  "kernelspec": {
   "display_name": "Python 3 (ipykernel)",
   "language": "python",
   "name": "python3"
  },
  "language_info": {
   "codemirror_mode": {
    "name": "ipython",
    "version": 3
   },
   "file_extension": ".py",
   "mimetype": "text/x-python",
   "name": "python",
   "nbconvert_exporter": "python",
   "pygments_lexer": "ipython3",
   "version": "3.11.5"
  }
 },
 "nbformat": 4,
 "nbformat_minor": 5
}
